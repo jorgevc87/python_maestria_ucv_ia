{
 "cells": [
  {
   "cell_type": "code",
   "execution_count": null,
   "id": "f7073289",
   "metadata": {},
   "outputs": [
    {
     "ename": "",
     "evalue": "",
     "output_type": "error",
     "traceback": [
      "\u001b[1;31mLa ejecución de celdas con 'Python 3.13.1' requiere el paquete ipykernel.\n",
      "\u001b[1;31mInstale \"ipykernel\" en el entorno de Python. \n",
      "\u001b[1;31mComando: \"/opt/homebrew/bin/python3 -m pip install ipykernel -U --user --force-reinstall\""
     ]
    }
   ],
   "source": [
    "# Sistema de control de acceso\n",
    "\n",
    "# Simulacion de la base de datos de usuarios\n",
    "USER_DATABASE = {\n",
    "    \"jorge_dev\": {\"password\": \"secure123\", \"role\": \"admin\"},\n",
    "    \"maria_user\": {\"password\": \"pass456\", \"role\": \"user\"},\n",
    "    \"guest\": {\"password\": \"guest\", \"role\": \"guest\"},\n",
    "}\n",
    "\n",
    "# Revisa si el usuario existe y si la contraseña es correcta\n",
    "def check_credentials(username, password):\n",
    "    user = USER_DATABASE.get(username)\n",
    "    result = user and user[\"password\"] == password\n",
    "    return result\n",
    "\n",
    "# Obtiene el nivel de acceso del usuario\n",
    "def get_access_level(username):\n",
    "    return USER_DATABASE[username][\"role\"]\n",
    "\n",
    "# Otorga acceso basado en el nivel de acceso\n",
    "def grant_access(role):\n",
    "    if role == \"admin\":\n",
    "        return \"Welcome, admin: Full access to the system.\"\n",
    "    elif role == \"user\":\n",
    "        return \"Welcome user: Limited access to user features.\"\n",
    "    elif role == \"guest\":\n",
    "        return \"User access granted: Read-only access.\"\n",
    "    else:\n",
    "        return \"Access denied: Unknown role.\"\n",
    "\n",
    "# Función principal de control de acceso\n",
    "def access_control(username, password):\n",
    "    if check_credentials(username, password):\n",
    "        level = get_access_level(username)\n",
    "        return grant_access(level)\n",
    "    else:\n",
    "        return \"Access denied: Invalid credentials.\"\n",
    "\n",
    "# Reintentos\n",
    "def login_with_retries(max_attemps = 3):\n",
    "    attempts = 0\n",
    "    while attempts < max_attemps:\n",
    "        username = input(\"Enter username: \")\n",
    "        password = input(\"Enter password: \")\n",
    "        if check_credentials(username, password):\n",
    "            a_control = access_control(username, password)\n",
    "            print(a_control)\n",
    "            return\n",
    "        else:\n",
    "            attempts += 1\n",
    "            print(\"Invalid credentials. Please try again.\")\n",
    "    print(f\"Attempt {attempts} of {max_attemps}.\")\n",
    "\n",
    "\n",
    "# Ejecutar\n",
    "login_with_retries(3)\n",
    "        "
   ]
  }
 ],
 "metadata": {
  "kernelspec": {
   "display_name": "Python 3",
   "language": "python",
   "name": "python3"
  },
  "language_info": {
   "name": "python",
   "version": "3.13.1"
  }
 },
 "nbformat": 4,
 "nbformat_minor": 5
}
